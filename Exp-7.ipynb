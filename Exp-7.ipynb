{
 "cells": [
  {
   "cell_type": "markdown",
   "metadata": {},
   "source": [
    "We have a square matrix M of dimension n x n that has positive and negative numbers in the ranges [-9,-1] and [0,9],( the value 0 is excluded).\n",
    "\n",
    "We want to add up all the products of the elements of the diagonals UP-LEFT to DOWN-BOTTOM, that is the value ofsum1; and the elements of the diagonals UP-RIGHT to LEFT-DOWN and that is sum2. Then, as a final result, the value of sum1 - sum2.\n",
    "\n",
    "E.g.\n",
    "\n",
    "M = [[ 1,  4, 7,  6,  5],\n",
    "     [-3,  2, 8,  1,  3],\n",
    "     [ 6,  2, 9,  7, -4],\n",
    "     [ 1, -2, 4, -2,  6],\n",
    "     [ 3,  2, 2, -4,  7]]\n",
    "Let's see how to get this result in the image below:"
   ]
  },
  {
   "cell_type": "markdown",
   "metadata": {},
   "source": [
    "So the value of sum1 - sum2 is equal to:\n",
    "\n",
    "1164 - 66 = 1098\n",
    "Create the code to do this calculation.\n",
    "\n",
    "Features of the random tests:\n",
    "\n",
    "Numbers of tests = 150\n",
    "5 <= dimension <= 25 (python, ruby and COBOL)\n",
    "5 <= dimension <= 20 (javascript)\n",
    "-10 < M[i,j] < 0 and 0 < M[i,j] < 10\n",
    "This kata is available in Python2, Ruby and Javascript by the moment. Translations into another languages will be released soon. Enjoy it!"
   ]
  },
  {
   "cell_type": "code",
   "execution_count": 6,
   "metadata": {},
   "outputs": [
    {
     "name": "stdout",
     "output_type": "stream",
     "text": [
      "1098\n"
     ]
    }
   ],
   "source": [
    "def sum_prod_diags(matrix):\n",
    "        \n",
    "    def ops(x,y) :\n",
    "        if 0 > x > -(len(y)+1) :\n",
    "            return y[x]\n",
    "        else :\n",
    "            return 1\n",
    "\n",
    "    total = 0\n",
    "    for i in range(-1,-(len(matrix)*2),-1) :\n",
    "        ara, ara2 = 1, 1 \n",
    "        for j in range(len(matrix)) :\n",
    "            ara *= ops(i+j, matrix[j])\n",
    "            ara2 *= ops(i+len(matrix)-1-j, matrix[j])\n",
    "            \n",
    "        total += (ara - ara2)        \n",
    "    return total \n",
    "\n",
    "M1 = [[ 1,  4, 7,  6,  5],\n",
    "     [-3,  2, 8,  1,  3],\n",
    "     [ 6,  2, 9,  7, -4],\n",
    "     [ 1, -2, 4, -2,  6],\n",
    "     [ 3,  2, 2, -4,  7]]\n",
    "\n",
    "        \n",
    "print(sum_prod_diags(M1))"
   ]
  }
 ],
 "metadata": {
  "interpreter": {
   "hash": "5e1c0650b3c4e66ca21157f6c57ec13966c7c2d9c396385eb00557cdcc2c7667"
  },
  "kernelspec": {
   "display_name": "Python 3.10.4 64-bit",
   "language": "python",
   "name": "python3"
  },
  "language_info": {
   "codemirror_mode": {
    "name": "ipython",
    "version": 3
   },
   "file_extension": ".py",
   "mimetype": "text/x-python",
   "name": "python",
   "nbconvert_exporter": "python",
   "pygments_lexer": "ipython3",
   "version": "3.10.4"
  },
  "orig_nbformat": 4
 },
 "nbformat": 4,
 "nbformat_minor": 2
}

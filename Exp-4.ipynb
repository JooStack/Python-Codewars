{
 "cells": [
  {
   "cell_type": "markdown",
   "metadata": {},
   "source": [
    "Implement a function that receives two IPv4 addresses, and returns the number of addresses between them (including the first one, excluding the last one).\n",
    "\n",
    "All inputs will be valid IPv4 addresses in the form of strings. The last address will always be greater than the first one.\n",
    "\n",
    "Examples\n",
    "* With input \"10.0.0.0\", \"10.0.0.50\"  => return   50 \n",
    "* With input \"10.0.0.0\", \"10.0.1.0\"   => return  256 \n",
    "* With input \"20.0.0.10\", \"20.0.1.0\"  => return  246"
   ]
  },
  {
   "cell_type": "code",
   "execution_count": 4,
   "metadata": {},
   "outputs": [
    {
     "data": {
      "text/plain": [
       "246"
      ]
     },
     "execution_count": 4,
     "metadata": {},
     "output_type": "execute_result"
    }
   ],
   "source": [
    "def ips_between(start, end):\n",
    "    start = list(map(int,start.split(\".\"))) \n",
    "    end = list(map(int,end.split(\".\")))\n",
    "    for i in range(3) :\n",
    "        end[i+1] += (end[i] - start[i])*256\n",
    "  \n",
    "    return (end[3] - start[3]) \n",
    "\n",
    "ips_between(\"20.0.0.10\", \"20.0.1.0\")"
   ]
  }
 ],
 "metadata": {
  "interpreter": {
   "hash": "5e1c0650b3c4e66ca21157f6c57ec13966c7c2d9c396385eb00557cdcc2c7667"
  },
  "kernelspec": {
   "display_name": "Python 3.10.4 64-bit",
   "language": "python",
   "name": "python3"
  },
  "language_info": {
   "codemirror_mode": {
    "name": "ipython",
    "version": 3
   },
   "file_extension": ".py",
   "mimetype": "text/x-python",
   "name": "python",
   "nbconvert_exporter": "python",
   "pygments_lexer": "ipython3",
   "version": "3.10.4"
  },
  "orig_nbformat": 4
 },
 "nbformat": 4,
 "nbformat_minor": 2
}

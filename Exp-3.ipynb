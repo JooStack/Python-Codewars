{
 "cells": [
  {
   "cell_type": "markdown",
   "metadata": {},
   "source": [
    "### Complete the solution so that the function will break up camel casing, using a space between words.\n",
    "\n",
    "Example\n",
    "\"camelCasing\"  =>  \"camel Casing\"\n",
    "\"identifier\"   =>  \"identifier\"\n",
    "\"\"             =>  \"\""
   ]
  },
  {
   "cell_type": "code",
   "execution_count": 2,
   "metadata": {},
   "outputs": [
    {
     "name": "stdout",
     "output_type": "stream",
     "text": [
      "the Miami Heat Will Be Champion!!\n"
     ]
    }
   ],
   "source": [
    "def solution(a) :\n",
    "    x = \"\"\n",
    "    for i in a :\n",
    "        if i.isupper() :\n",
    "            x += \" \"\n",
    "        x += i\n",
    "    return x\n",
    "\n",
    "sentence = \"theMiamiHeatWillBeChampion!!\"\n",
    "\n",
    "print(solution(sentence))"
   ]
  }
 ],
 "metadata": {
  "interpreter": {
   "hash": "5e1c0650b3c4e66ca21157f6c57ec13966c7c2d9c396385eb00557cdcc2c7667"
  },
  "kernelspec": {
   "display_name": "Python 3.10.4 64-bit",
   "language": "python",
   "name": "python3"
  },
  "language_info": {
   "codemirror_mode": {
    "name": "ipython",
    "version": 3
   },
   "file_extension": ".py",
   "mimetype": "text/x-python",
   "name": "python",
   "nbconvert_exporter": "python",
   "pygments_lexer": "ipython3",
   "version": "3.10.4"
  },
  "orig_nbformat": 4
 },
 "nbformat": 4,
 "nbformat_minor": 2
}

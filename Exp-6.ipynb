{
 "cells": [
  {
   "cell_type": "markdown",
   "metadata": {},
   "source": [
    "Write a function that when given a URL as a string, parses out just the domain name and returns it as a string. For example:\n",
    "\n",
    "* url = \"http://github.com/carbonfive/raygun\" -> domain name = \"github\"\n",
    "* url = \"http://www.zombie-bites.com\"         -> domain name = \"zombie-bites\"\n",
    "* url = \"https://www.cnet.com\"                -> domain name = cnet\""
   ]
  },
  {
   "cell_type": "code",
   "execution_count": 1,
   "metadata": {},
   "outputs": [],
   "source": [
    "def domain_name(url):\n",
    "    result = \"\"\n",
    "    if \"www.\" in url :\n",
    "        start = url.index(\".\") + 1\n",
    "        while url[start] != \".\" :\n",
    "            result += url[start]\n",
    "            start += 1\n",
    "    elif \"http://\" in url or \"https://\" in url :\n",
    "        start = url.index(\"/\") + 2\n",
    "        while url[start] != \".\" :\n",
    "            result += url[start]\n",
    "            start += 1\n",
    "    else :\n",
    "        start = 0\n",
    "        while url[start] != \".\" :\n",
    "            result += url[start]\n",
    "            start += 1\n",
    "    return result   "
   ]
  }
 ],
 "metadata": {
  "interpreter": {
   "hash": "5e1c0650b3c4e66ca21157f6c57ec13966c7c2d9c396385eb00557cdcc2c7667"
  },
  "kernelspec": {
   "display_name": "Python 3.10.4 64-bit",
   "language": "python",
   "name": "python3"
  },
  "language_info": {
   "codemirror_mode": {
    "name": "ipython",
    "version": 3
   },
   "file_extension": ".py",
   "mimetype": "text/x-python",
   "name": "python",
   "nbconvert_exporter": "python",
   "pygments_lexer": "ipython3",
   "version": "3.10.4"
  },
  "orig_nbformat": 4
 },
 "nbformat": 4,
 "nbformat_minor": 2
}

{
 "cells": [
  {
   "cell_type": "markdown",
   "metadata": {},
   "source": []
  },
  {
   "cell_type": "code",
   "execution_count": null,
   "metadata": {},
   "outputs": [],
   "source": [
    "def make_readable(seconds):\n",
    "    minutes  = seconds // 60\n",
    "    second = str(seconds % 60)\n",
    "    hour = str(minutes // 60)\n",
    "    minute = str(minutes % 60)\n",
    "    \n",
    "    return (hour.zfill(2) +\":\"+ minute.zfill(2) +\":\"+ second.zfill(2))"
   ]
  }
 ],
 "metadata": {
  "language_info": {
   "name": "python"
  },
  "orig_nbformat": 4
 },
 "nbformat": 4,
 "nbformat_minor": 2
}
